{
  "nbformat": 4,
  "nbformat_minor": 0,
  "metadata": {
    "colab": {
      "name": "Homwork_2.ipynb",
      "provenance": [],
      "collapsed_sections": [],
      "authorship_tag": "ABX9TyOIJ4F956+8cKqlKHIiDPoQ",
      "include_colab_link": true
    },
    "kernelspec": {
      "name": "python3",
      "display_name": "Python 3"
    }
  },
  "cells": [
    {
      "cell_type": "markdown",
      "metadata": {
        "id": "view-in-github",
        "colab_type": "text"
      },
      "source": [
        "<a href=\"https://colab.research.google.com/github/Rupneetk/DataViz/blob/master/Homwork_2.ipynb\" target=\"_parent\"><img src=\"https://colab.research.google.com/assets/colab-badge.svg\" alt=\"Open In Colab\"/></a>"
      ]
    },
    {
      "cell_type": "markdown",
      "metadata": {
        "id": "hEKGOIUU3YvX",
        "colab_type": "text"
      },
      "source": [
        "#List"
      ]
    },
    {
      "cell_type": "code",
      "metadata": {
        "id": "t7r77Gy40sb5",
        "colab_type": "code",
        "colab": {}
      },
      "source": [
        "# copy this list in your code\n",
        "mixed_up = [6, 'Laughter',12, 'is',3495, 'poison',7 ,'to',1056, 'fear.',102]"
      ],
      "execution_count": 0,
      "outputs": []
    },
    {
      "cell_type": "markdown",
      "metadata": {
        "id": "wXMPQmXd5QVF",
        "colab_type": "text"
      },
      "source": [
        "1)Create /copy this  list.\n",
        " Use indexing and slicing to separte text and numbers and store them separately by creating new list. Name one  list as quote_1, and the other list as number_1.\n"
      ]
    },
    {
      "cell_type": "code",
      "metadata": {
        "id": "bP70dpHN6ObQ",
        "colab_type": "code",
        "colab": {}
      },
      "source": [
        "quote_1=....  #complete the code\n",
        "number_1=...] #complete the code"
      ],
      "execution_count": 0,
      "outputs": []
    },
    {
      "cell_type": "markdown",
      "metadata": {
        "id": "pAS8yd1YCua7",
        "colab_type": "text"
      },
      "source": [
        "Sort the number_1 list in  decending order"
      ]
    },
    {
      "cell_type": "code",
      "metadata": {
        "id": "nsNK-DzLEtO6",
        "colab_type": "code",
        "colab": {}
      },
      "source": [
        "..."
      ],
      "execution_count": 0,
      "outputs": []
    },
    {
      "cell_type": "code",
      "metadata": {
        "id": "qOzJAAzc-FRP",
        "colab_type": "code",
        "colab": {}
      },
      "source": [
        "#print your answers \n",
        "print(quote_1)\n",
        "print(number_1)"
      ],
      "execution_count": 0,
      "outputs": []
    },
    {
      "cell_type": "markdown",
      "metadata": {
        "id": "TnCHVWGe3Wb0",
        "colab_type": "text"
      },
      "source": [
        "2) To the list, quote_1,add 'by George R.R. Martin' to the list"
      ]
    },
    {
      "cell_type": "code",
      "metadata": {
        "id": "ag1QS5Wb90qS",
        "colab_type": "code",
        "colab": {}
      },
      "source": [
        "..."
      ],
      "execution_count": 0,
      "outputs": []
    },
    {
      "cell_type": "markdown",
      "metadata": {
        "id": "Y_7XlgrGC_an",
        "colab_type": "text"
      },
      "source": [
        "Use a join method"
      ]
    },
    {
      "cell_type": "code",
      "metadata": {
        "id": "9JRjxhG9FdHX",
        "colab_type": "code",
        "colab": {}
      },
      "source": [
        "quote_1=' '.join(quote_1)"
      ],
      "execution_count": 0,
      "outputs": []
    },
    {
      "cell_type": "code",
      "metadata": {
        "id": "KYfYjlLjFqh9",
        "colab_type": "code",
        "colab": {}
      },
      "source": [
        "print(quote_1)"
      ],
      "execution_count": 0,
      "outputs": []
    },
    {
      "cell_type": "markdown",
      "metadata": {
        "id": "QaYmDNVi-oS3",
        "colab_type": "text"
      },
      "source": [
        "# Strings: Solve the puzzle"
      ]
    },
    {
      "cell_type": "code",
      "metadata": {
        "id": "qTDHgswa90lk",
        "colab_type": "code",
        "colab": {}
      },
      "source": [
        "puzzle= 'ThWxgrWYtWstxglzryxFnxlFvFngxlFWsxnztxFnxnWvWrxfYllFng,xbJtxFnxrFsFngxWvWryxtFmWxwWxfYll.'"
      ],
      "execution_count": 0,
      "outputs": []
    },
    {
      "cell_type": "markdown",
      "metadata": {
        "id": "f3Cf9mnpBM_4",
        "colab_type": "text"
      },
      "source": [
        "Clue 1: the sentence**, written here, is** complicated. \n",
        ".............Note the bold area and find the comma in the above sentence... Is there problem with the space ?? "
      ]
    },
    {
      "cell_type": "markdown",
      "metadata": {
        "id": "A9ouOsQOHLR8",
        "colab_type": "text"
      },
      "source": [
        "Remove '... delete this and fill your answer here...' in the below code and enter your answer (answer is one letter)"
      ]
    },
    {
      "cell_type": "code",
      "metadata": {
        "id": "NGVbn2g1Bvct",
        "colab_type": "code",
        "colab": {}
      },
      "source": [
        "temp = puzzle.split(sep = \"... delete this and fill your answer here...\")\n",
        "print(temp)"
      ],
      "execution_count": 0,
      "outputs": []
    },
    {
      "cell_type": "markdown",
      "metadata": {
        "id": "Kp3oGQpvC4EF",
        "colab_type": "text"
      },
      "source": [
        "Ohh my God, what have you done to my code it is broken into list. Join the code by running following function"
      ]
    },
    {
      "cell_type": "code",
      "metadata": {
        "id": "lSEceqoLC3vD",
        "colab_type": "code",
        "colab": {}
      },
      "source": [
        "temp = \" \".join(temp)\n",
        "temp"
      ],
      "execution_count": 0,
      "outputs": []
    },
    {
      "cell_type": "markdown",
      "metadata": {
        "id": "SA6UJSGGCZmK",
        "colab_type": "text"
      },
      "source": [
        "Clue2: Notice the peculiarity of Capital letters (leave the first letter of sentence. Seems they have some thing to do with vowels"
      ]
    },
    {
      "cell_type": "markdown",
      "metadata": {
        "id": "tWL_2i50H3Qv",
        "colab_type": "text"
      },
      "source": [
        "Fill the ... with as many vowel errors you can find"
      ]
    },
    {
      "cell_type": "code",
      "metadata": {
        "id": "JrQYVZFQCOoM",
        "colab_type": "code",
        "colab": {}
      },
      "source": [
        "temp = temp.replace(\"W\",\"... delete this and fill your answer here...\")\n",
        "...\n",
        "...\n",
        "..."
      ],
      "execution_count": 0,
      "outputs": []
    },
    {
      "cell_type": "code",
      "metadata": {
        "id": "_NJelzskDnmX",
        "colab_type": "code",
        "colab": {}
      },
      "source": [
        "temp"
      ],
      "execution_count": 0,
      "outputs": []
    },
    {
      "cell_type": "markdown",
      "metadata": {
        "id": "806vuthnDz18",
        "colab_type": "text"
      },
      "source": [
        " Yeah!! I am getting closer to solving this.. I see it is not the capital letter I should be worried about, but there is one mysterious small letter.. Which I know ... (cunning smile)"
      ]
    },
    {
      "cell_type": "code",
      "metadata": {
        "id": "RkPdAgZwDo_d",
        "colab_type": "code",
        "colab": {}
      },
      "source": [
        "...."
      ],
      "execution_count": 0,
      "outputs": []
    },
    {
      "cell_type": "code",
      "metadata": {
        "id": "xlaaM_ZSEPK2",
        "colab_type": "code",
        "colab": {}
      },
      "source": [
        "temp"
      ],
      "execution_count": 0,
      "outputs": []
    },
    {
      "cell_type": "markdown",
      "metadata": {
        "id": "UudvLJFIaUD_",
        "colab_type": "text"
      },
      "source": [
        "#Dictionaries"
      ]
    },
    {
      "cell_type": "markdown",
      "metadata": {
        "id": "KqE4jkOFaY0A",
        "colab_type": "text"
      },
      "source": [
        "You work in a your favourite store. Create a dictionaries that contains few objects with price."
      ]
    },
    {
      "cell_type": "code",
      "metadata": {
        "id": "VKMU8iXKaX6r",
        "colab_type": "code",
        "colab": {}
      },
      "source": [
        "my_store= ..."
      ],
      "execution_count": 0,
      "outputs": []
    },
    {
      "cell_type": "markdown",
      "metadata": {
        "id": "5f53BPe5crjp",
        "colab_type": "text"
      },
      "source": [
        "Create a second dictionary of your rival store containg same and different objects, but with different price"
      ]
    },
    {
      "cell_type": "code",
      "metadata": {
        "id": "NnToAC9Bc2CX",
        "colab_type": "code",
        "colab": {}
      },
      "source": [
        "rival_store=..."
      ],
      "execution_count": 0,
      "outputs": []
    },
    {
      "cell_type": "markdown",
      "metadata": {
        "id": "rEzLgaJfce4r",
        "colab_type": "text"
      },
      "source": [
        "Your store has accuired the rival store. Use the update function to add more items to your my_store "
      ]
    },
    {
      "cell_type": "code",
      "metadata": {
        "id": "38sjY8TgawlY",
        "colab_type": "code",
        "colab": {}
      },
      "source": [
        "my_store.update(rival_store)"
      ],
      "execution_count": 0,
      "outputs": []
    },
    {
      "cell_type": "markdown",
      "metadata": {
        "id": "-tXnW_DGdn8e",
        "colab_type": "text"
      },
      "source": [
        "Notice any change with uptade function"
      ]
    },
    {
      "cell_type": "code",
      "metadata": {
        "id": "hBb4fvbGcKdr",
        "colab_type": "code",
        "colab": {}
      },
      "source": [
        "print(my_store)"
      ],
      "execution_count": 0,
      "outputs": []
    },
    {
      "cell_type": "markdown",
      "metadata": {
        "id": "_kEmTbAZeajX",
        "colab_type": "text"
      },
      "source": [
        "You just learnt that keys in dictonaries are unique. "
      ]
    },
    {
      "cell_type": "markdown",
      "metadata": {
        "id": "HGIMUac5d6u9",
        "colab_type": "text"
      },
      "source": [
        "You are planning to not to sell on item. Use pop method to remove the article"
      ]
    },
    {
      "cell_type": "code",
      "metadata": {
        "id": "kllsxUwsd6Oo",
        "colab_type": "code",
        "colab": {}
      },
      "source": [
        "my_store.pop('...')"
      ],
      "execution_count": 0,
      "outputs": []
    },
    {
      "cell_type": "code",
      "metadata": {
        "id": "6lLhMGkEd0wO",
        "colab_type": "code",
        "colab": {}
      },
      "source": [
        "print(my_store)"
      ],
      "execution_count": 0,
      "outputs": []
    },
    {
      "cell_type": "code",
      "metadata": {
        "id": "R19HKA0Otrtw",
        "colab_type": "code",
        "colab": {}
      },
      "source": [
        "my_store.clear()"
      ],
      "execution_count": 0,
      "outputs": []
    },
    {
      "cell_type": "markdown",
      "metadata": {
        "id": "ZIXH3SQtEg6T",
        "colab_type": "text"
      },
      "source": [
        "Seems like you have sold everything"
      ]
    },
    {
      "cell_type": "code",
      "metadata": {
        "id": "rreOkwziv2C2",
        "colab_type": "code",
        "colab": {}
      },
      "source": [
        "print(my_store)"
      ],
      "execution_count": 0,
      "outputs": []
    },
    {
      "cell_type": "markdown",
      "metadata": {
        "id": "b8U08TNPuLFF",
        "colab_type": "text"
      },
      "source": [
        "Re-run your my_store to restock it. Take only values from it and store in a set"
      ]
    },
    {
      "cell_type": "code",
      "metadata": {
        "id": "Pj-8BDI7tyHs",
        "colab_type": "code",
        "colab": {}
      },
      "source": [
        "my_values=..."
      ],
      "execution_count": 0,
      "outputs": []
    },
    {
      "cell_type": "markdown",
      "metadata": {
        "id": "gNgggvWav8zO",
        "colab_type": "text"
      },
      "source": [
        "# SET"
      ]
    },
    {
      "cell_type": "markdown",
      "metadata": {
        "id": "Q8EL0xaZFBag",
        "colab_type": "text"
      },
      "source": [
        "Create a set"
      ]
    },
    {
      "cell_type": "code",
      "metadata": {
        "id": "GhbnkDWrucYL",
        "colab_type": "code",
        "colab": {}
      },
      "source": [
        "my_value_set=..."
      ],
      "execution_count": 0,
      "outputs": []
    },
    {
      "cell_type": "code",
      "metadata": {
        "id": "Iht40DozuhmG",
        "colab_type": "code",
        "colab": {}
      },
      "source": [
        "print(my_value_set)"
      ],
      "execution_count": 0,
      "outputs": []
    },
    {
      "cell_type": "markdown",
      "metadata": {
        "id": "93YnUnNIw6dh",
        "colab_type": "text"
      },
      "source": [
        "Create a new set containg few same and different values. Apply different methods"
      ]
    },
    {
      "cell_type": "code",
      "metadata": {
        "id": "A8Gh3Z-4wtRT",
        "colab_type": "code",
        "colab": {}
      },
      "source": [
        "new_set=..."
      ],
      "execution_count": 0,
      "outputs": []
    },
    {
      "cell_type": "markdown",
      "metadata": {
        "id": "m0VTdnuTFPm2",
        "colab_type": "text"
      },
      "source": [
        "Note how effect of the below code"
      ]
    },
    {
      "cell_type": "code",
      "metadata": {
        "id": "BjWFS4YgxQU5",
        "colab_type": "code",
        "colab": {}
      },
      "source": [
        "my_value_set.difference(new_set)"
      ],
      "execution_count": 0,
      "outputs": []
    },
    {
      "cell_type": "code",
      "metadata": {
        "id": "ffZogRH8xUpk",
        "colab_type": "code",
        "colab": {}
      },
      "source": [
        "my_value_set"
      ],
      "execution_count": 0,
      "outputs": []
    },
    {
      "cell_type": "code",
      "metadata": {
        "id": "7TTBPF35xXvN",
        "colab_type": "code",
        "colab": {}
      },
      "source": [
        "my_value_set.difference_update(new_set)"
      ],
      "execution_count": 0,
      "outputs": []
    },
    {
      "cell_type": "code",
      "metadata": {
        "id": "HmjXObQhxiTP",
        "colab_type": "code",
        "colab": {}
      },
      "source": [
        "my_value_set"
      ],
      "execution_count": 0,
      "outputs": []
    },
    {
      "cell_type": "markdown",
      "metadata": {
        "id": "efT-2LwuxteP",
        "colab_type": "text"
      },
      "source": [
        " disjoint sets if they have no element in common"
      ]
    },
    {
      "cell_type": "code",
      "metadata": {
        "id": "SbUYncijxkDT",
        "colab_type": "code",
        "colab": {}
      },
      "source": [
        "my_value_set.isdisjoint(new_set)"
      ],
      "execution_count": 0,
      "outputs": []
    },
    {
      "cell_type": "markdown",
      "metadata": {
        "id": "mdCiJOvTynyo",
        "colab_type": "text"
      },
      "source": [
        "![image.png](data:image/png;base64,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) Symetric difference is in yellow highlight portion"
      ]
    },
    {
      "cell_type": "code",
      "metadata": {
        "id": "_a_DHrUkxrwf",
        "colab_type": "code",
        "colab": {}
      },
      "source": [
        "my_value_set.symmetric_difference(new_set)"
      ],
      "execution_count": 0,
      "outputs": []
    },
    {
      "cell_type": "code",
      "metadata": {
        "id": "VSZ6QCEJx5on",
        "colab_type": "code",
        "colab": {}
      },
      "source": [
        "my_value_set.symmetric_difference_update(new_set)"
      ],
      "execution_count": 0,
      "outputs": []
    },
    {
      "cell_type": "code",
      "metadata": {
        "id": "htWfXBi6yFzE",
        "colab_type": "code",
        "colab": {}
      },
      "source": [
        "my_value_set"
      ],
      "execution_count": 0,
      "outputs": []
    }
  ]
}